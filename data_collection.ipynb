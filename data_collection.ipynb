{
 "cells": [
  {
   "cell_type": "markdown",
   "metadata": {},
   "source": [
    "# Problem Statement:\n",
    "### Formula 1 is a sport most widely viewed in Europe. This project seeks to explore ways in which Formula 1 can efficiently market itself to viewers outside of Europe using text data from the Formula 1 and Nascar subreddits. Specifically, we will try and find ways of marketing towards Nascar viewers given that they have already demonstrated an interest in motorsports and should be an easier population to convert to Formula 1. multinomial Naive Bayes and random forest classification will be used to answer this question."
   ]
  },
  {
   "cell_type": "code",
   "execution_count": 1,
   "metadata": {},
   "outputs": [],
   "source": [
    "# imports\n",
    "import requests\n",
    "import pandas as pd"
   ]
  },
  {
   "cell_type": "code",
   "execution_count": 233,
   "metadata": {},
   "outputs": [],
   "source": [
    "# getting pushshift api to scrape reddit posts\n",
    "url = 'https://api.pushshift.io/reddit/search/submission'"
   ]
  },
  {
   "cell_type": "code",
   "execution_count": 234,
   "metadata": {},
   "outputs": [],
   "source": [
    "df = pd.DataFrame()"
   ]
  },
  {
   "cell_type": "code",
   "execution_count": 235,
   "metadata": {},
   "outputs": [],
   "source": [
    "# collecting data on nascar\n",
    "before_vals = [1_606_499_202-20_000_000*i for i in range(11)]\n",
    "\n",
    "for i in range(10):\n",
    "    params = {\n",
    "        'subreddit' : 'nascar',\n",
    "        'size': 100,\n",
    "        'before': before_vals[i]\n",
    "    }\n",
    "    res = requests.get(url, params)\n",
    "    data = res.json()\n",
    "    posts = data['data']\n",
    "    df_small = pd.DataFrame(posts)\n",
    "    df = df.append(df_small)"
   ]
  },
  {
   "cell_type": "code",
   "execution_count": 237,
   "metadata": {},
   "outputs": [],
   "source": [
    "# collecting data on formula 1\n",
    "before_vals = [1_606_499_202-20_000_000*i for i in range(11)]\n",
    "\n",
    "for i in range(10):\n",
    "    params = {\n",
    "        'subreddit' : 'formula1',\n",
    "        'size': 100,\n",
    "        'before': before_vals[i]\n",
    "    }\n",
    "    res = requests.get(url, params)\n",
    "    data = res.json()\n",
    "    posts = data['data']\n",
    "    df_small = pd.DataFrame(posts)\n",
    "    df = df.append(df_small)"
   ]
  },
  {
   "cell_type": "code",
   "execution_count": 238,
   "metadata": {},
   "outputs": [
    {
     "data": {
      "text/plain": [
       "2000"
      ]
     },
     "execution_count": 238,
     "metadata": {},
     "output_type": "execute_result"
    }
   ],
   "source": [
    "# 2000 total reddit posts webscraped\n",
    "len(df['full_link'].unique())"
   ]
  },
  {
   "cell_type": "code",
   "execution_count": 239,
   "metadata": {},
   "outputs": [],
   "source": [
    "# gathering needed columns\n",
    "df = df[['subreddit','selftext','title']]"
   ]
  },
  {
   "cell_type": "code",
   "execution_count": 240,
   "metadata": {},
   "outputs": [
    {
     "data": {
      "text/plain": [
       "NASCAR      1000\n",
       "formula1    1000\n",
       "Name: subreddit, dtype: int64"
      ]
     },
     "execution_count": 240,
     "metadata": {},
     "output_type": "execute_result"
    }
   ],
   "source": [
    "# making sure even amount of posts for each subreddit\n",
    "df['subreddit'].value_counts()"
   ]
  },
  {
   "cell_type": "code",
   "execution_count": 242,
   "metadata": {},
   "outputs": [],
   "source": [
    "# export reddit data dataframe\n",
    "df.to_csv('reddit_data.csv',index=False)"
   ]
  }
 ],
 "metadata": {
  "kernelspec": {
   "display_name": "Python 3",
   "language": "python",
   "name": "python3"
  },
  "language_info": {
   "codemirror_mode": {
    "name": "ipython",
    "version": 3
   },
   "file_extension": ".py",
   "mimetype": "text/x-python",
   "name": "python",
   "nbconvert_exporter": "python",
   "pygments_lexer": "ipython3",
   "version": "3.8.3"
  }
 },
 "nbformat": 4,
 "nbformat_minor": 4
}
