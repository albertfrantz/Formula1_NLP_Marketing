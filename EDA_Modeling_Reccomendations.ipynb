{
 "cells": [
  {
   "cell_type": "markdown",
   "metadata": {},
   "source": [
    "# Problem Statement:\n",
    "### Formula 1 is a sport most widely viewed in Europe. This project seeks to explore ways in which Formula 1 can efficiently market itself to viewers outside of Europe using text data from the Formula 1 and Nascar subreddits. Specifically, we will try and find ways of marketing towards Nascar viewers given that they have already demonstrated an interest in motorsports and should be an easier population to convert to Formula 1. Multinomial Naive Bayes and random forest classification will be used to answer this question."
   ]
  },
  {
   "cell_type": "code",
   "execution_count": 68,
   "metadata": {},
   "outputs": [],
   "source": [
    "# imports\n",
    "import pandas as pd\n",
    "import matplotlib.pyplot as plt\n",
    "from sklearn.model_selection import train_test_split, GridSearchCV\n",
    "from sklearn.pipeline import Pipeline\n",
    "from sklearn.naive_bayes import MultinomialNB\n",
    "from sklearn.feature_extraction.text import CountVectorizer, TfidfVectorizer\n",
    "from sklearn.feature_extraction import text \n",
    "from sklearn.ensemble import RandomForestClassifier, ExtraTreesClassifier"
   ]
  },
  {
   "cell_type": "code",
   "execution_count": 69,
   "metadata": {},
   "outputs": [],
   "source": [
    "# reading in the webscraped data\n",
    "df = pd.read_csv('reddit_data.csv')"
   ]
  },
  {
   "cell_type": "code",
   "execution_count": 70,
   "metadata": {},
   "outputs": [
    {
     "data": {
      "text/html": [
       "<div>\n",
       "<style scoped>\n",
       "    .dataframe tbody tr th:only-of-type {\n",
       "        vertical-align: middle;\n",
       "    }\n",
       "\n",
       "    .dataframe tbody tr th {\n",
       "        vertical-align: top;\n",
       "    }\n",
       "\n",
       "    .dataframe thead th {\n",
       "        text-align: right;\n",
       "    }\n",
       "</style>\n",
       "<table border=\"1\" class=\"dataframe\">\n",
       "  <thead>\n",
       "    <tr style=\"text-align: right;\">\n",
       "      <th></th>\n",
       "      <th>subreddit</th>\n",
       "      <th>selftext</th>\n",
       "      <th>title</th>\n",
       "    </tr>\n",
       "  </thead>\n",
       "  <tbody>\n",
       "    <tr>\n",
       "      <th>0</th>\n",
       "      <td>NASCAR</td>\n",
       "      <td>NaN</td>\n",
       "      <td>Using this website http://www.paintschemes.ca/...</td>\n",
       "    </tr>\n",
       "    <tr>\n",
       "      <th>1</th>\n",
       "      <td>NASCAR</td>\n",
       "      <td>Welcome to this week's Forgotten Rides Friday!...</td>\n",
       "      <td>Forgotten Rides Friday - November 27, 2020</td>\n",
       "    </tr>\n",
       "    <tr>\n",
       "      <th>2</th>\n",
       "      <td>NASCAR</td>\n",
       "      <td>Everytime I bring up the errors of the playoff...</td>\n",
       "      <td>Turns out, hypothetically, under the current p...</td>\n",
       "    </tr>\n",
       "  </tbody>\n",
       "</table>\n",
       "</div>"
      ],
      "text/plain": [
       "  subreddit                                           selftext  \\\n",
       "0    NASCAR                                                NaN   \n",
       "1    NASCAR  Welcome to this week's Forgotten Rides Friday!...   \n",
       "2    NASCAR  Everytime I bring up the errors of the playoff...   \n",
       "\n",
       "                                               title  \n",
       "0  Using this website http://www.paintschemes.ca/...  \n",
       "1         Forgotten Rides Friday - November 27, 2020  \n",
       "2  Turns out, hypothetically, under the current p...  "
      ]
     },
     "execution_count": 70,
     "metadata": {},
     "output_type": "execute_result"
    }
   ],
   "source": [
    "df.head(3)"
   ]
  },
  {
   "cell_type": "markdown",
   "metadata": {},
   "source": [
    "### Data exploration"
   ]
  },
  {
   "cell_type": "code",
   "execution_count": 71,
   "metadata": {},
   "outputs": [
    {
     "data": {
      "text/plain": [
       "subreddit       0\n",
       "selftext     1204\n",
       "title           0\n",
       "dtype: int64"
      ]
     },
     "execution_count": 71,
     "metadata": {},
     "output_type": "execute_result"
    }
   ],
   "source": [
    "# checking for null values\n",
    "df.isnull().sum()"
   ]
  },
  {
   "cell_type": "code",
   "execution_count": 72,
   "metadata": {},
   "outputs": [
    {
     "data": {
      "text/html": [
       "<div>\n",
       "<style scoped>\n",
       "    .dataframe tbody tr th:only-of-type {\n",
       "        vertical-align: middle;\n",
       "    }\n",
       "\n",
       "    .dataframe tbody tr th {\n",
       "        vertical-align: top;\n",
       "    }\n",
       "\n",
       "    .dataframe thead th {\n",
       "        text-align: right;\n",
       "    }\n",
       "</style>\n",
       "<table border=\"1\" class=\"dataframe\">\n",
       "  <thead>\n",
       "    <tr style=\"text-align: right;\">\n",
       "      <th></th>\n",
       "      <th>subreddit</th>\n",
       "      <th>selftext</th>\n",
       "      <th>title</th>\n",
       "    </tr>\n",
       "  </thead>\n",
       "  <tbody>\n",
       "    <tr>\n",
       "      <th>count</th>\n",
       "      <td>2000</td>\n",
       "      <td>796</td>\n",
       "      <td>2000</td>\n",
       "    </tr>\n",
       "    <tr>\n",
       "      <th>unique</th>\n",
       "      <td>2</td>\n",
       "      <td>530</td>\n",
       "      <td>1917</td>\n",
       "    </tr>\n",
       "    <tr>\n",
       "      <th>top</th>\n",
       "      <td>formula1</td>\n",
       "      <td>[removed]</td>\n",
       "      <td>Infrared photocell sensors is very excellent a...</td>\n",
       "    </tr>\n",
       "    <tr>\n",
       "      <th>freq</th>\n",
       "      <td>1000</td>\n",
       "      <td>153</td>\n",
       "      <td>24</td>\n",
       "    </tr>\n",
       "  </tbody>\n",
       "</table>\n",
       "</div>"
      ],
      "text/plain": [
       "       subreddit   selftext                                              title\n",
       "count       2000        796                                               2000\n",
       "unique         2        530                                               1917\n",
       "top     formula1  [removed]  Infrared photocell sensors is very excellent a...\n",
       "freq        1000        153                                                 24"
      ]
     },
     "execution_count": 72,
     "metadata": {},
     "output_type": "execute_result"
    }
   ],
   "source": [
    "# summary stats and checking for duplicates\n",
    "df.describe()"
   ]
  },
  {
   "cell_type": "code",
   "execution_count": 73,
   "metadata": {},
   "outputs": [],
   "source": [
    "# dropping duplicate posts\n",
    "df = df.drop_duplicates()"
   ]
  },
  {
   "cell_type": "markdown",
   "metadata": {},
   "source": [
    "Since most posts in both r/nascar and r/formula1 are images I will only be looking at the titles of the posts"
   ]
  },
  {
   "cell_type": "code",
   "execution_count": 74,
   "metadata": {},
   "outputs": [],
   "source": [
    "# splitting the data into dependent and independent variables.\n",
    "X = df['title']\n",
    "y = df['subreddit']\n",
    "# only looking at titles"
   ]
  },
  {
   "cell_type": "code",
   "execution_count": 161,
   "metadata": {},
   "outputs": [
    {
     "data": {
      "text/plain": [
       "<matplotlib.axes._subplots.AxesSubplot at 0x1e5012d8c40>"
      ]
     },
     "execution_count": 161,
     "metadata": {},
     "output_type": "execute_result"
    },
    {
     "data": {
      "image/png": "[encoded data removed]",
      "text/plain": [
       "<Figure size 864x720 with 1 Axes>"
      ]
     },
     "metadata": {
      "needs_background": "light"
     },
     "output_type": "display_data"
    }
   ],
   "source": [
    "# finding average word count of title posts\n",
    "plt.figure(figsize=(12,10))\n",
    "plt.title(\"Average Post Word Count\")\n",
    "plt.xlabel('Word Count')\n",
    "plt.ylabel('Frequency')\n",
    "X.str.split().map(lambda x: len(x)).hist() # splitting title by word then getting the length of each post"
   ]
  },
  {
   "cell_type": "markdown",
   "metadata": {},
   "source": [
    "Interpretation: Title word count is right skewed with most titles being about 10 words. No major outliers."
   ]
  },
  {
   "cell_type": "code",
   "execution_count": 82,
   "metadata": {},
   "outputs": [
    {
     "data": {
      "text/plain": [
       "56"
      ]
     },
     "execution_count": 82,
     "metadata": {},
     "output_type": "execute_result"
    }
   ],
   "source": [
    "# longest title is 56 words. Reddit titles cannot exceed 150 words.\n",
    "sorted(X.str.split().map(lambda x: len(x)))[-1]"
   ]
  },
  {
   "cell_type": "markdown",
   "metadata": {},
   "source": [
    "Vecorizing text data for further data exploration"
   ]
  },
  {
   "cell_type": "code",
   "execution_count": 83,
   "metadata": {},
   "outputs": [],
   "source": [
    "cvec = CountVectorizer(max_features=10_000, ngram_range=(1,2))\n",
    "cvec.fit(X)\n",
    "X_cvec1 = cvec.transform(X)"
   ]
  },
  {
   "cell_type": "code",
   "execution_count": 162,
   "metadata": {},
   "outputs": [
    {
     "data": {
      "image/png": "[encoded data removed]",
      "text/plain": [
       "<Figure size 864x720 with 1 Axes>"
      ]
     },
     "metadata": {
      "needs_background": "light"
     },
     "output_type": "display_data"
    }
   ],
   "source": [
    "# plotting most common words in data set (not using stopwords)\n",
    "plt.figure(figsize=(12,10))\n",
    "plt.title(\"Subreddit Word Counts (Stop Words Included)\")\n",
    "plt.xlabel('Word Count')\n",
    "plt.ylabel('Word')\n",
    "X_df = pd.DataFrame(X_cvec1.todense(), \n",
    "                          columns=cvec.get_feature_names())\n",
    "X_df.sum().sort_values(ascending=False).head(15).plot(kind='barh', color = 'red');"
   ]
  },
  {
   "cell_type": "markdown",
   "metadata": {},
   "source": [
    "Interpretation: Considering the most common words are not markers we can use for marketing we will want to use stopwords"
   ]
  },
  {
   "cell_type": "code",
   "execution_count": 85,
   "metadata": {},
   "outputs": [],
   "source": [
    "# adding stop words to count vectorization\n",
    "cvec_2 = CountVectorizer(max_features=10_000, ngram_range=(1,2), stop_words='english')\n",
    "cvec_2.fit(X)\n",
    "X_cvec2 = cvec_2.transform(X)"
   ]
  },
  {
   "cell_type": "code",
   "execution_count": 163,
   "metadata": {},
   "outputs": [
    {
     "data": {
      "image/png": "[encoded data removed]",
      "text/plain": [
       "<Figure size 864x720 with 1 Axes>"
      ]
     },
     "metadata": {
      "needs_background": "light"
     },
     "output_type": "display_data"
    }
   ],
   "source": [
    "# creating a bar chart for most common words in dataframe excluding english stopwords\n",
    "plt.figure(figsize=(12,10))\n",
    "plt.title(\"Subreddit Word Counts (Stop Words Removed)\")\n",
    "plt.xlabel('Word Count')\n",
    "plt.ylabel('Word')\n",
    "X_df_2 = pd.DataFrame(X_cvec2.todense(), \n",
    "                          columns=cvec_2.get_feature_names())\n",
    "X_df_2.sum().sort_values(ascending=False).head(15).plot(kind='barh', color = 'red');"
   ]
  },
  {
   "cell_type": "markdown",
   "metadata": {},
   "source": [
    "Interpretation: We can now better see words that may be worth marketing to although words like nascar and f1 do not provide\n",
    "    important information so they should be removed also"
   ]
  },
  {
   "cell_type": "code",
   "execution_count": 87,
   "metadata": {},
   "outputs": [],
   "source": [
    "# creating lists for additional stopwords that should be excluded from analysis\n",
    "nascar_driver_list = ['Aric', 'Almirola', 'Christopher', 'Bell', 'Ryan', 'Blaney', 'Alex', 'Bowman', 'Clint', 'Bowyer', 'Chris', 'Buescher', 'Kurt', 'Busch', 'Kyle', 'Busch', 'William', 'Byron', 'Cole', 'Custer', 'Matt', 'DiBenedetto', 'Austin', 'Dillon', 'Ty', 'Dillon', 'Chase', 'Elliott', 'Joey', 'Gase', 'Denny', 'Hamlin','Kevin', 'Harvick', 'Quin', 'Houff', 'Jimmie', 'Johnson','Erik', 'Jones', 'Brad', 'Keselowski', 'Corey', 'LaJoie', 'Matt', 'Kenseth', 'Joey', 'Logano', 'Michael', 'McDowell', 'John', 'Hunter', 'Nemechek', 'Ryan', 'Newman', 'Brennan', 'Poole','Ryan', 'Preece', 'Tyler', 'Reddick', 'Ricky', 'Stenhouse', 'Jr', 'Daniel', 'Suarez', 'Martin', 'Truex', 'Bubba', 'Wallace', 'J. J.', 'Yeley', 'Jeff', 'Gordon', 'Carl', 'Edwards','Dale', 'Earnhardt', 'Jamie', 'Mcmurray']\n",
    "f1_driver_list = ['Lewis', 'Hamilton', 'Valtteri', 'Bottas', 'Charles', 'Leclerc', 'Sebastian', 'Vettel', 'Max', 'Verstappen','Alex', 'Albon', 'Carlos', 'Sainz','Lando', 'Norris', 'Daniel', 'Ricciardo','Esteban', 'Ocon', 'Pierre', 'Gasly','Daniil', 'Kvyat','Sergio', 'Perez','Lance', 'Stroll','Kimi', 'Raikkonen','Antonio', 'Giovinazzi','Kevin', 'Magnussen', 'Romain', 'Grosjean', 'George', 'Russell','Nicholas', 'Latifi', 'Nico', 'Keke', 'Rosberg', 'Michael', 'Schumacher', 'Mike', 'Hawthorn', 'Fernando', 'Alonso', 'Ayrton', 'Senna']\n",
    "other_words = ['f1','nascar', 'photocell','formula1','formula']\n",
    "#combinging all the lists together\n",
    "all_words = nascar_driver_list + f1_driver_list + other_words\n",
    "#lowercasing all words\n",
    "all_words = [word.lower() for word in all_words]"
   ]
  },
  {
   "cell_type": "code",
   "execution_count": 88,
   "metadata": {},
   "outputs": [],
   "source": [
    "# adding additional stop words to english list\n",
    "# help from: https://stackoverflow.com/questions/24386489/adding-words-to-scikit-learns-countvectorizers-stop-list\n",
    "stop_words = text.ENGLISH_STOP_WORDS.union(all_words)"
   ]
  },
  {
   "cell_type": "code",
   "execution_count": 89,
   "metadata": {},
   "outputs": [],
   "source": [
    "# adding additional stopwords to a new word vectorizer\n",
    "cvec_3 = CountVectorizer(max_features=10_000, ngram_range=(1,2), stop_words=stop_words)\n",
    "cvec_3.fit(X_train)\n",
    "X_cvec3 = cvec_3.transform(X_train)"
   ]
  },
  {
   "cell_type": "code",
   "execution_count": 164,
   "metadata": {},
   "outputs": [
    {
     "data": {
      "image/png": "[encoded data removed]",
      "text/plain": [
       "<Figure size 864x720 with 1 Axes>"
      ]
     },
     "metadata": {
      "needs_background": "light"
     },
     "output_type": "display_data"
    }
   ],
   "source": [
    "plt.figure(figsize=(12,10))\n",
    "plt.title(\"Subreddit Word Counts (Stop Words Removed)\")\n",
    "plt.xlabel('Word Count')\n",
    "plt.ylabel('Word')\n",
    "X_df_3 = pd.DataFrame(X_cvec3.todense(), \n",
    "                          columns=cvec_3.get_feature_names())\n",
    "X_df_3.sum().sort_values(ascending=False).head(15).plot(kind='barh', color = 'red');"
   ]
  },
  {
   "cell_type": "markdown",
   "metadata": {},
   "source": [
    "Interpretation: We now have the most common words that may be useful for marketing formula 1 to nascar fans"
   ]
  },
  {
   "cell_type": "markdown",
   "metadata": {},
   "source": [
    "Ultimatley by looking at subreddit word usage we should be able to determine the areas we can best market formula 1 to Nascar fans."
   ]
  },
  {
   "cell_type": "markdown",
   "metadata": {},
   "source": [
    "# Modeling"
   ]
  },
  {
   "cell_type": "markdown",
   "metadata": {},
   "source": [
    "### Baseline model"
   ]
  },
  {
   "cell_type": "code",
   "execution_count": 159,
   "metadata": {},
   "outputs": [
    {
     "data": {
      "text/plain": [
       "NASCAR      0.512675\n",
       "formula1    0.487325\n",
       "Name: subreddit, dtype: float64"
      ]
     },
     "execution_count": 159,
     "metadata": {},
     "output_type": "execute_result"
    }
   ],
   "source": [
    "df['subreddit'].value_counts(normalize=True)\n",
    "# baseline model is 51% accuracy so models should perform better than this baseline"
   ]
  },
  {
   "cell_type": "markdown",
   "metadata": {},
   "source": [
    "### train/test splitting the data"
   ]
  },
  {
   "cell_type": "code",
   "execution_count": 98,
   "metadata": {},
   "outputs": [],
   "source": [
    "# splitting the data up by train/test splitting \n",
    "X_train, X_test, y_train, y_test = train_test_split(X,\n",
    "                                                    y,\n",
    "                                                    test_size=0.33,\n",
    "                                                    stratify=y,\n",
    "                                                    random_state=42)"
   ]
  },
  {
   "cell_type": "markdown",
   "metadata": {},
   "source": [
    "## CVEC + MultinomialNB Modeling"
   ]
  },
  {
   "cell_type": "code",
   "execution_count": 92,
   "metadata": {},
   "outputs": [],
   "source": [
    "# creating a pipline that count vectorizes text data and uses multinomialNB modeling\n",
    "pipe = Pipeline([\n",
    "    ('cvec', CountVectorizer(stop_words = stop_words)),\n",
    "    ('nb', MultinomialNB())\n",
    "])"
   ]
  },
  {
   "cell_type": "code",
   "execution_count": 93,
   "metadata": {},
   "outputs": [],
   "source": [
    "# creating pipe params for gridsearch\n",
    "pipe_params = {\n",
    "    'cvec__max_features': [2_000, 3_000, 4_000, 5_000], # maximum number of words to include\n",
    "    'cvec__min_df': [2, 3], # min occurance of words to use\n",
    "    'cvec__max_df': [.9, .95], # max occurance of words to use\n",
    "    'cvec__ngram_range': [(1,1), (1,2)] # 1 and 2 word combinations\n",
    "}"
   ]
  },
  {
   "cell_type": "code",
   "execution_count": 94,
   "metadata": {},
   "outputs": [],
   "source": [
    "# grid searching to find best cvec params\n",
    "gs = GridSearchCV(pipe, # what object are we optimizing?\n",
    "                  param_grid=pipe_params, # what parameters values are we searching?\n",
    "                  cv=5) # 5-fold cross-validation."
   ]
  },
  {
   "cell_type": "code",
   "execution_count": 95,
   "metadata": {
    "scrolled": true
   },
   "outputs": [
    {
     "data": {
      "text/plain": [
       "GridSearchCV(cv=5,\n",
       "             estimator=Pipeline(steps=[('cvec',\n",
       "                                        CountVectorizer(stop_words=frozenset({'a',\n",
       "                                                                              'about',\n",
       "                                                                              'above',\n",
       "                                                                              'across',\n",
       "                                                                              'after',\n",
       "                                                                              'afterwards',\n",
       "                                                                              'again',\n",
       "                                                                              'against',\n",
       "                                                                              'albon',\n",
       "                                                                              'alex',\n",
       "                                                                              'all',\n",
       "                                                                              'almirola',\n",
       "                                                                              'almost',\n",
       "                                                                              'alone',\n",
       "                                                                              'along',\n",
       "                                                                              'alonso',\n",
       "                                                                              'already',\n",
       "                                                                              'also',\n",
       "                                                                              'although',\n",
       "                                                                              'always',\n",
       "                                                                              'am',\n",
       "                                                                              'among',\n",
       "                                                                              'amongst',\n",
       "                                                                              'amoungst',\n",
       "                                                                              'amount',\n",
       "                                                                              'an',\n",
       "                                                                              'and',\n",
       "                                                                              'another',\n",
       "                                                                              'antonio',\n",
       "                                                                              'any', ...}))),\n",
       "                                       ('nb', MultinomialNB())]),\n",
       "             param_grid={'cvec__max_df': [0.9, 0.95],\n",
       "                         'cvec__max_features': [2000, 3000, 4000, 5000],\n",
       "                         'cvec__min_df': [2, 3],\n",
       "                         'cvec__ngram_range': [(1, 1), (1, 2)]})"
      ]
     },
     "execution_count": 95,
     "metadata": {},
     "output_type": "execute_result"
    }
   ],
   "source": [
    "# fitting the grid search\n",
    "gs.fit(X_train, y_train)"
   ]
  },
  {
   "cell_type": "code",
   "execution_count": 96,
   "metadata": {},
   "outputs": [
    {
     "data": {
      "text/plain": [
       "0.8980694980694981"
      ]
     },
     "execution_count": 96,
     "metadata": {},
     "output_type": "execute_result"
    }
   ],
   "source": [
    "# gridsearch training accuracy\n",
    "gs.score(X_train, y_train)"
   ]
  },
  {
   "cell_type": "code",
   "execution_count": 100,
   "metadata": {},
   "outputs": [
    {
     "data": {
      "text/plain": [
       "0.7695924764890282"
      ]
     },
     "execution_count": 100,
     "metadata": {},
     "output_type": "execute_result"
    }
   ],
   "source": [
    "# gridsearch testing accuracy \n",
    "gs.score(X_test, y_test)\n",
    "# model is overfit"
   ]
  },
  {
   "cell_type": "markdown",
   "metadata": {},
   "source": [
    "## TVEC + MultinomialNB Model"
   ]
  },
  {
   "cell_type": "code",
   "execution_count": 102,
   "metadata": {},
   "outputs": [],
   "source": [
    "# creating a pipeline for tvec and multinomialNB model\n",
    "pipe_tvec = Pipeline([\n",
    "    ('tvec', TfidfVectorizer(stop_words=stop_words)),\n",
    "    ('nb', MultinomialNB())\n",
    "])"
   ]
  },
  {
   "cell_type": "code",
   "execution_count": 104,
   "metadata": {},
   "outputs": [],
   "source": [
    "# setting up tvec pipe parameters for gridsearch\n",
    "pipe_tvec_params = {\n",
    "    'tvec__max_features': [1_000, 1_500, 2_000, 2_500, 3_000, 4_000],\n",
    "    'tvec__ngram_range': [(1,1), (1,2)],\n",
    "    'tvec__max_df': [1.0, .98, .75],\n",
    "    'tvec__min_df': [1,2,5]  \n",
    "}"
   ]
  },
  {
   "cell_type": "code",
   "execution_count": 105,
   "metadata": {},
   "outputs": [],
   "source": [
    "# gridsearching for best tvec params\n",
    "gs_tvec = GridSearchCV(pipe_tvec,\n",
    "                        param_grid = pipe_tvec_params,\n",
    "                        cv=5) # 5-fold cross-validation."
   ]
  },
  {
   "cell_type": "code",
   "execution_count": 106,
   "metadata": {
    "scrolled": true
   },
   "outputs": [
    {
     "data": {
      "text/plain": [
       "GridSearchCV(cv=5,\n",
       "             estimator=Pipeline(steps=[('tvec',\n",
       "                                        TfidfVectorizer(stop_words=frozenset({'a',\n",
       "                                                                              'about',\n",
       "                                                                              'above',\n",
       "                                                                              'across',\n",
       "                                                                              'after',\n",
       "                                                                              'afterwards',\n",
       "                                                                              'again',\n",
       "                                                                              'against',\n",
       "                                                                              'albon',\n",
       "                                                                              'alex',\n",
       "                                                                              'all',\n",
       "                                                                              'almirola',\n",
       "                                                                              'almost',\n",
       "                                                                              'alone',\n",
       "                                                                              'along',\n",
       "                                                                              'alonso',\n",
       "                                                                              'already',\n",
       "                                                                              'also',\n",
       "                                                                              'although',\n",
       "                                                                              'always',\n",
       "                                                                              'am',\n",
       "                                                                              'among',\n",
       "                                                                              'amongst',\n",
       "                                                                              'amoungst',\n",
       "                                                                              'amount',\n",
       "                                                                              'an',\n",
       "                                                                              'and',\n",
       "                                                                              'another',\n",
       "                                                                              'antonio',\n",
       "                                                                              'any', ...}))),\n",
       "                                       ('nb', MultinomialNB())]),\n",
       "             param_grid={'tvec__max_df': [1.0, 0.98, 0.75],\n",
       "                         'tvec__max_features': [1000, 1500, 2000, 2500, 3000,\n",
       "                                                4000],\n",
       "                         'tvec__min_df': [1, 2, 5],\n",
       "                         'tvec__ngram_range': [(1, 1), (1, 2)]})"
      ]
     },
     "execution_count": 106,
     "metadata": {},
     "output_type": "execute_result"
    }
   ],
   "source": [
    "# fitting tvec nb model\n",
    "gs_tvec.fit(X_train, y_train)"
   ]
  },
  {
   "cell_type": "code",
   "execution_count": 131,
   "metadata": {},
   "outputs": [
    {
     "data": {
      "text/plain": [
       "0.9694029850746269"
      ]
     },
     "execution_count": 131,
     "metadata": {},
     "output_type": "execute_result"
    }
   ],
   "source": [
    "# tvec nb model training accuracy score\n",
    "gs_tvec.score(X_train, y_train)"
   ]
  },
  {
   "cell_type": "code",
   "execution_count": 109,
   "metadata": {},
   "outputs": [
    {
     "data": {
      "text/plain": [
       "0.7789968652037618"
      ]
     },
     "execution_count": 109,
     "metadata": {},
     "output_type": "execute_result"
    }
   ],
   "source": [
    "# tvec nb model testing accuracy\n",
    "gs_tvec.score(X_test, y_test)\n",
    "# better model but still overfit"
   ]
  },
  {
   "cell_type": "markdown",
   "metadata": {},
   "source": [
    "## TVEC + RandomForestClassifier Modeling"
   ]
  },
  {
   "cell_type": "code",
   "execution_count": 110,
   "metadata": {},
   "outputs": [],
   "source": [
    "# creating a pipeline for tvec and RandomForestClassifier model\n",
    "pipe_rf_tvec = Pipeline([\n",
    "    ('tvec', TfidfVectorizer(stop_words=stop_words)), # stop words included for all models\n",
    "    ('rf', RandomForestClassifier())\n",
    "])"
   ]
  },
  {
   "cell_type": "code",
   "execution_count": 111,
   "metadata": {},
   "outputs": [],
   "source": [
    "# setting up tvec pipe parameters for gridsearch\n",
    "pipe_rf_tvec_params = {\n",
    "    'rf__n_estimators': [100, 200, 300, 400],\n",
    "    'rf__max_depth': [5, 6, 7, 10],\n",
    "    'tvec__ngram_range':[(1,1),(1,2)],\n",
    "    'tvec__min_df': [1,4,10],\n",
    "    'tvec__max_features': [None, 200, 1000, 4000],\n",
    "    'tvec__norm': ['l1', 'l2']\n",
    "}"
   ]
  },
  {
   "cell_type": "code",
   "execution_count": 113,
   "metadata": {},
   "outputs": [],
   "source": [
    "# gridsearching for best tvec params\n",
    "gs_rf_tvec = GridSearchCV(pipe_rf_tvec,\n",
    "                        param_grid = pipe_rf_tvec_params,\n",
    "                        cv=5, n_jobs=6) # 5-fold cross-validation."
   ]
  },
  {
   "cell_type": "code",
   "execution_count": 114,
   "metadata": {},
   "outputs": [
    {
     "data": {
      "text/plain": [
       "GridSearchCV(cv=5,\n",
       "             estimator=Pipeline(steps=[('tvec',\n",
       "                                        TfidfVectorizer(stop_words=frozenset({'a',\n",
       "                                                                              'about',\n",
       "                                                                              'above',\n",
       "                                                                              'across',\n",
       "                                                                              'after',\n",
       "                                                                              'afterwards',\n",
       "                                                                              'again',\n",
       "                                                                              'against',\n",
       "                                                                              'albon',\n",
       "                                                                              'alex',\n",
       "                                                                              'all',\n",
       "                                                                              'almirola',\n",
       "                                                                              'almost',\n",
       "                                                                              'alone',\n",
       "                                                                              'along',\n",
       "                                                                              'alonso',\n",
       "                                                                              'already',\n",
       "                                                                              'also',\n",
       "                                                                              'although',\n",
       "                                                                              'always',\n",
       "                                                                              'am',\n",
       "                                                                              'among',\n",
       "                                                                              'amongst',\n",
       "                                                                              'amoungst',\n",
       "                                                                              'amount',\n",
       "                                                                              'an',\n",
       "                                                                              'and',\n",
       "                                                                              'another',\n",
       "                                                                              'antonio',\n",
       "                                                                              'any', ...}))),\n",
       "                                       ('rf', RandomForestClassifier())]),\n",
       "             n_jobs=6,\n",
       "             param_grid={'rf__max_depth': [5, 6, 7, 10],\n",
       "                         'rf__n_estimators': [100, 200, 300, 400],\n",
       "                         'tvec__max_features': [None, 200, 1000, 4000],\n",
       "                         'tvec__min_df': [1, 4, 10],\n",
       "                         'tvec__ngram_range': [(1, 1), (1, 2)],\n",
       "                         'tvec__norm': ['l1', 'l2']})"
      ]
     },
     "execution_count": 114,
     "metadata": {},
     "output_type": "execute_result"
    }
   ],
   "source": [
    "# fitting the tvec RandomForestClassifier model\n",
    "gs_rf_tvec.fit(X_train, y_train)"
   ]
  },
  {
   "cell_type": "code",
   "execution_count": 115,
   "metadata": {},
   "outputs": [
    {
     "data": {
      "text/plain": [
       "0.7444015444015444"
      ]
     },
     "execution_count": 115,
     "metadata": {},
     "output_type": "execute_result"
    }
   ],
   "source": [
    "# tvec rf model training accuracy score\n",
    "gs_rf_tvec.score(X_train, y_train)"
   ]
  },
  {
   "cell_type": "code",
   "execution_count": 116,
   "metadata": {},
   "outputs": [
    {
     "data": {
      "text/plain": [
       "0.7115987460815048"
      ]
     },
     "execution_count": 116,
     "metadata": {},
     "output_type": "execute_result"
    }
   ],
   "source": [
    "# tvec rf model testing accuracy score\n",
    "gs_rf_tvec.score(X_test, y_test)\n",
    "# model is only slightly overfit"
   ]
  },
  {
   "cell_type": "code",
   "execution_count": 117,
   "metadata": {},
   "outputs": [
    {
     "data": {
      "text/plain": [
       "{'rf__max_depth': 10,\n",
       " 'rf__n_estimators': 200,\n",
       " 'tvec__max_features': 4000,\n",
       " 'tvec__min_df': 1,\n",
       " 'tvec__ngram_range': (1, 1),\n",
       " 'tvec__norm': 'l2'}"
      ]
     },
     "execution_count": 117,
     "metadata": {},
     "output_type": "execute_result"
    }
   ],
   "source": [
    "# getting the best model params\n",
    "gs_rf_tvec.best_params_"
   ]
  },
  {
   "cell_type": "markdown",
   "metadata": {},
   "source": [
    "### final model using the params from the best RandomForestClassifier grid search"
   ]
  },
  {
   "cell_type": "code",
   "execution_count": 118,
   "metadata": {},
   "outputs": [],
   "source": [
    "# creating, training and transforming tvec\n",
    "tvec = TfidfVectorizer(stop_words=stop_words, max_features=4_000, ngram_range=(1,2), norm='l2')\n",
    "tvec.fit(X_train)\n",
    "X_train = tvec.transform(X_train)\n",
    "X_test = tvec.transform(X_test)"
   ]
  },
  {
   "cell_type": "code",
   "execution_count": 119,
   "metadata": {},
   "outputs": [
    {
     "data": {
      "text/plain": [
       "RandomForestClassifier(max_depth=10, n_estimators=200)"
      ]
     },
     "execution_count": 119,
     "metadata": {},
     "output_type": "execute_result"
    }
   ],
   "source": [
    "# creating final RandomForestClassifier\n",
    "rf_final = RandomForestClassifier(max_depth=10, n_estimators = 200)\n",
    "rf_final.fit(X_train, y_train)"
   ]
  },
  {
   "cell_type": "code",
   "execution_count": 120,
   "metadata": {},
   "outputs": [
    {
     "data": {
      "text/plain": [
       "0.7297297297297297"
      ]
     },
     "execution_count": 120,
     "metadata": {},
     "output_type": "execute_result"
    }
   ],
   "source": [
    "# final model training accuracy score\n",
    "rf_final.score(X_train, y_train)"
   ]
  },
  {
   "cell_type": "code",
   "execution_count": 122,
   "metadata": {},
   "outputs": [
    {
     "data": {
      "text/plain": [
       "0.7147335423197492"
      ]
     },
     "execution_count": 122,
     "metadata": {},
     "output_type": "execute_result"
    }
   ],
   "source": [
    "# final model testing accuracy score\n",
    "rf_final.score(X_test, y_test)"
   ]
  },
  {
   "cell_type": "markdown",
   "metadata": {},
   "source": [
    "# Final Recommendations"
   ]
  },
  {
   "cell_type": "code",
   "execution_count": 124,
   "metadata": {},
   "outputs": [],
   "source": [
    "# creating a dictionary of feature importance by feature name\n",
    "feature_importance_dict = {}\n",
    "for name, importance in zip(tvec.get_feature_names(), rf_final.feature_importances_):\n",
    "    feature_importance_dict[name] = importance"
   ]
  },
  {
   "cell_type": "code",
   "execution_count": 125,
   "metadata": {},
   "outputs": [],
   "source": [
    "# using feature_importance_dict to create a dataframe\n",
    "feat_imp_df = pd.DataFrame(feature_importance_dict.values(), index=feature_importance_dict.keys(), columns=['importance'])"
   ]
  },
  {
   "cell_type": "code",
   "execution_count": 144,
   "metadata": {},
   "outputs": [
    {
     "data": {
      "text/html": [
       "<div>\n",
       "<style scoped>\n",
       "    .dataframe tbody tr th:only-of-type {\n",
       "        vertical-align: middle;\n",
       "    }\n",
       "\n",
       "    .dataframe tbody tr th {\n",
       "        vertical-align: top;\n",
       "    }\n",
       "\n",
       "    .dataframe thead th {\n",
       "        text-align: right;\n",
       "    }\n",
       "</style>\n",
       "<table border=\"1\" class=\"dataframe\">\n",
       "  <thead>\n",
       "    <tr style=\"text-align: right;\">\n",
       "      <th></th>\n",
       "      <th>importance</th>\n",
       "    </tr>\n",
       "  </thead>\n",
       "  <tbody>\n",
       "    <tr>\n",
       "      <th>gp</th>\n",
       "      <td>0.053524</td>\n",
       "    </tr>\n",
       "    <tr>\n",
       "      <th>grand</th>\n",
       "      <td>0.034840</td>\n",
       "    </tr>\n",
       "    <tr>\n",
       "      <th>grand prix</th>\n",
       "      <td>0.034658</td>\n",
       "    </tr>\n",
       "    <tr>\n",
       "      <th>ferrari</th>\n",
       "      <td>0.025630</td>\n",
       "    </tr>\n",
       "    <tr>\n",
       "      <th>red</th>\n",
       "      <td>0.024575</td>\n",
       "    </tr>\n",
       "    <tr>\n",
       "      <th>daytona</th>\n",
       "      <td>0.024146</td>\n",
       "    </tr>\n",
       "    <tr>\n",
       "      <th>prix</th>\n",
       "      <td>0.022137</td>\n",
       "    </tr>\n",
       "    <tr>\n",
       "      <th>williams</th>\n",
       "      <td>0.019982</td>\n",
       "    </tr>\n",
       "    <tr>\n",
       "      <th>fp2</th>\n",
       "      <td>0.018004</td>\n",
       "    </tr>\n",
       "    <tr>\n",
       "      <th>mercedes</th>\n",
       "      <td>0.015918</td>\n",
       "    </tr>\n",
       "    <tr>\n",
       "      <th>mclaren</th>\n",
       "      <td>0.015880</td>\n",
       "    </tr>\n",
       "    <tr>\n",
       "      <th>500</th>\n",
       "      <td>0.015084</td>\n",
       "    </tr>\n",
       "    <tr>\n",
       "      <th>xfinity</th>\n",
       "      <td>0.014919</td>\n",
       "    </tr>\n",
       "    <tr>\n",
       "      <th>daytona 500</th>\n",
       "      <td>0.014891</td>\n",
       "    </tr>\n",
       "    <tr>\n",
       "      <th>series</th>\n",
       "      <td>0.014416</td>\n",
       "    </tr>\n",
       "    <tr>\n",
       "      <th>dover</th>\n",
       "      <td>0.013919</td>\n",
       "    </tr>\n",
       "    <tr>\n",
       "      <th>cup</th>\n",
       "      <td>0.013724</td>\n",
       "    </tr>\n",
       "    <tr>\n",
       "      <th>bahrain</th>\n",
       "      <td>0.013529</td>\n",
       "    </tr>\n",
       "    <tr>\n",
       "      <th>bull</th>\n",
       "      <td>0.012649</td>\n",
       "    </tr>\n",
       "    <tr>\n",
       "      <th>red bull</th>\n",
       "      <td>0.012504</td>\n",
       "    </tr>\n",
       "    <tr>\n",
       "      <th>throwback</th>\n",
       "      <td>0.011085</td>\n",
       "    </tr>\n",
       "    <tr>\n",
       "      <th>scheme</th>\n",
       "      <td>0.010510</td>\n",
       "    </tr>\n",
       "    <tr>\n",
       "      <th>race</th>\n",
       "      <td>0.009711</td>\n",
       "    </tr>\n",
       "    <tr>\n",
       "      <th>darlington</th>\n",
       "      <td>0.009101</td>\n",
       "    </tr>\n",
       "    <tr>\n",
       "      <th>phoenix</th>\n",
       "      <td>0.008999</td>\n",
       "    </tr>\n",
       "    <tr>\n",
       "      <th>toro rosso</th>\n",
       "      <td>0.008822</td>\n",
       "    </tr>\n",
       "    <tr>\n",
       "      <th>today</th>\n",
       "      <td>0.008658</td>\n",
       "    </tr>\n",
       "    <tr>\n",
       "      <th>baku</th>\n",
       "      <td>0.008586</td>\n",
       "    </tr>\n",
       "    <tr>\n",
       "      <th>arca</th>\n",
       "      <td>0.007682</td>\n",
       "    </tr>\n",
       "    <tr>\n",
       "      <th>onboard</th>\n",
       "      <td>0.007104</td>\n",
       "    </tr>\n",
       "    <tr>\n",
       "      <th>sauber</th>\n",
       "      <td>0.006713</td>\n",
       "    </tr>\n",
       "    <tr>\n",
       "      <th>international</th>\n",
       "      <td>0.006535</td>\n",
       "    </tr>\n",
       "    <tr>\n",
       "      <th>speedway</th>\n",
       "      <td>0.006498</td>\n",
       "    </tr>\n",
       "    <tr>\n",
       "      <th>rosso</th>\n",
       "      <td>0.005980</td>\n",
       "    </tr>\n",
       "    <tr>\n",
       "      <th>monaco</th>\n",
       "      <td>0.005790</td>\n",
       "    </tr>\n",
       "    <tr>\n",
       "      <th>thread</th>\n",
       "      <td>0.005599</td>\n",
       "    </tr>\n",
       "    <tr>\n",
       "      <th>martinsville</th>\n",
       "      <td>0.005500</td>\n",
       "    </tr>\n",
       "    <tr>\n",
       "      <th>test</th>\n",
       "      <td>0.005305</td>\n",
       "    </tr>\n",
       "    <tr>\n",
       "      <th>win</th>\n",
       "      <td>0.005249</td>\n",
       "    </tr>\n",
       "    <tr>\n",
       "      <th>iracing</th>\n",
       "      <td>0.005244</td>\n",
       "    </tr>\n",
       "    <tr>\n",
       "      <th>lap</th>\n",
       "      <td>0.005035</td>\n",
       "    </tr>\n",
       "    <tr>\n",
       "      <th>track</th>\n",
       "      <td>0.005002</td>\n",
       "    </tr>\n",
       "    <tr>\n",
       "      <th>pic</th>\n",
       "      <td>0.004993</td>\n",
       "    </tr>\n",
       "    <tr>\n",
       "      <th>renault</th>\n",
       "      <td>0.004891</td>\n",
       "    </tr>\n",
       "    <tr>\n",
       "      <th>toro</th>\n",
       "      <td>0.004856</td>\n",
       "    </tr>\n",
       "    <tr>\n",
       "      <th>bristol</th>\n",
       "      <td>0.004840</td>\n",
       "    </tr>\n",
       "    <tr>\n",
       "      <th>motorsports</th>\n",
       "      <td>0.004725</td>\n",
       "    </tr>\n",
       "    <tr>\n",
       "      <th>ot</th>\n",
       "      <td>0.004555</td>\n",
       "    </tr>\n",
       "    <tr>\n",
       "      <th>days</th>\n",
       "      <td>0.004417</td>\n",
       "    </tr>\n",
       "    <tr>\n",
       "      <th>paint</th>\n",
       "      <td>0.004392</td>\n",
       "    </tr>\n",
       "    <tr>\n",
       "      <th>malaysia</th>\n",
       "      <td>0.004370</td>\n",
       "    </tr>\n",
       "    <tr>\n",
       "      <th>kubica</th>\n",
       "      <td>0.004007</td>\n",
       "    </tr>\n",
       "    <tr>\n",
       "      <th>year</th>\n",
       "      <td>0.003961</td>\n",
       "    </tr>\n",
       "    <tr>\n",
       "      <th>finish</th>\n",
       "      <td>0.003946</td>\n",
       "    </tr>\n",
       "    <tr>\n",
       "      <th>car</th>\n",
       "      <td>0.003813</td>\n",
       "    </tr>\n",
       "    <tr>\n",
       "      <th>raceway</th>\n",
       "      <td>0.003735</td>\n",
       "    </tr>\n",
       "    <tr>\n",
       "      <th>mexican</th>\n",
       "      <td>0.003695</td>\n",
       "    </tr>\n",
       "    <tr>\n",
       "      <th>pole</th>\n",
       "      <td>0.003506</td>\n",
       "    </tr>\n",
       "    <tr>\n",
       "      <th>10</th>\n",
       "      <td>0.003487</td>\n",
       "    </tr>\n",
       "    <tr>\n",
       "      <th>engine</th>\n",
       "      <td>0.003247</td>\n",
       "    </tr>\n",
       "    <tr>\n",
       "      <th>design</th>\n",
       "      <td>0.003238</td>\n",
       "    </tr>\n",
       "    <tr>\n",
       "      <th>watch</th>\n",
       "      <td>0.003237</td>\n",
       "    </tr>\n",
       "    <tr>\n",
       "      <th>road</th>\n",
       "      <td>0.003146</td>\n",
       "    </tr>\n",
       "    <tr>\n",
       "      <th>2021</th>\n",
       "      <td>0.003079</td>\n",
       "    </tr>\n",
       "    <tr>\n",
       "      <th>make</th>\n",
       "      <td>0.003034</td>\n",
       "    </tr>\n",
       "    <tr>\n",
       "      <th>sponsor</th>\n",
       "      <td>0.003033</td>\n",
       "    </tr>\n",
       "    <tr>\n",
       "      <th>australian</th>\n",
       "      <td>0.002990</td>\n",
       "    </tr>\n",
       "    <tr>\n",
       "      <th>did</th>\n",
       "      <td>0.002976</td>\n",
       "    </tr>\n",
       "    <tr>\n",
       "      <th>amp</th>\n",
       "      <td>0.002891</td>\n",
       "    </tr>\n",
       "    <tr>\n",
       "      <th>blue</th>\n",
       "      <td>0.002845</td>\n",
       "    </tr>\n",
       "    <tr>\n",
       "      <th>2019</th>\n",
       "      <td>0.002715</td>\n",
       "    </tr>\n",
       "    <tr>\n",
       "      <th>pre</th>\n",
       "      <td>0.002651</td>\n",
       "    </tr>\n",
       "    <tr>\n",
       "      <th>better</th>\n",
       "      <td>0.002609</td>\n",
       "    </tr>\n",
       "    <tr>\n",
       "      <th>testing</th>\n",
       "      <td>0.002600</td>\n",
       "    </tr>\n",
       "    <tr>\n",
       "      <th>paint scheme</th>\n",
       "      <td>0.002583</td>\n",
       "    </tr>\n",
       "    <tr>\n",
       "      <th>fox</th>\n",
       "      <td>0.002536</td>\n",
       "    </tr>\n",
       "    <tr>\n",
       "      <th>live</th>\n",
       "      <td>0.002511</td>\n",
       "    </tr>\n",
       "    <tr>\n",
       "      <th>malaysian</th>\n",
       "      <td>0.002446</td>\n",
       "    </tr>\n",
       "    <tr>\n",
       "      <th>2015</th>\n",
       "      <td>0.002407</td>\n",
       "    </tr>\n",
       "    <tr>\n",
       "      <th>does</th>\n",
       "      <td>0.002324</td>\n",
       "    </tr>\n",
       "    <tr>\n",
       "      <th>tbt</th>\n",
       "      <td>0.002246</td>\n",
       "    </tr>\n",
       "    <tr>\n",
       "      <th>time</th>\n",
       "      <td>0.002202</td>\n",
       "    </tr>\n",
       "    <tr>\n",
       "      <th>wreck</th>\n",
       "      <td>0.002167</td>\n",
       "    </tr>\n",
       "    <tr>\n",
       "      <th>think</th>\n",
       "      <td>0.002147</td>\n",
       "    </tr>\n",
       "    <tr>\n",
       "      <th>pirelli</th>\n",
       "      <td>0.002140</td>\n",
       "    </tr>\n",
       "    <tr>\n",
       "      <th>tracks</th>\n",
       "      <td>0.002134</td>\n",
       "    </tr>\n",
       "    <tr>\n",
       "      <th>weekend</th>\n",
       "      <td>0.002130</td>\n",
       "    </tr>\n",
       "    <tr>\n",
       "      <th>crash</th>\n",
       "      <td>0.002099</td>\n",
       "    </tr>\n",
       "    <tr>\n",
       "      <th>mexico</th>\n",
       "      <td>0.002077</td>\n",
       "    </tr>\n",
       "    <tr>\n",
       "      <th>wednesday</th>\n",
       "      <td>0.002073</td>\n",
       "    </tr>\n",
       "    <tr>\n",
       "      <th>general discussion</th>\n",
       "      <td>0.002036</td>\n",
       "    </tr>\n",
       "    <tr>\n",
       "      <th>tunnel</th>\n",
       "      <td>0.001990</td>\n",
       "    </tr>\n",
       "    <tr>\n",
       "      <th>2021 car</th>\n",
       "      <td>0.001975</td>\n",
       "    </tr>\n",
       "    <tr>\n",
       "      <th>instagram</th>\n",
       "      <td>0.001974</td>\n",
       "    </tr>\n",
       "    <tr>\n",
       "      <th>came</th>\n",
       "      <td>0.001968</td>\n",
       "    </tr>\n",
       "    <tr>\n",
       "      <th>happy</th>\n",
       "      <td>0.001949</td>\n",
       "    </tr>\n",
       "    <tr>\n",
       "      <th>fia</th>\n",
       "      <td>0.001931</td>\n",
       "    </tr>\n",
       "    <tr>\n",
       "      <th>world</th>\n",
       "      <td>0.001866</td>\n",
       "    </tr>\n",
       "    <tr>\n",
       "      <th>champion</th>\n",
       "      <td>0.001848</td>\n",
       "    </tr>\n",
       "    <tr>\n",
       "      <th>old</th>\n",
       "      <td>0.001822</td>\n",
       "    </tr>\n",
       "  </tbody>\n",
       "</table>\n",
       "</div>"
      ],
      "text/plain": [
       "                    importance\n",
       "gp                    0.053524\n",
       "grand                 0.034840\n",
       "grand prix            0.034658\n",
       "ferrari               0.025630\n",
       "red                   0.024575\n",
       "daytona               0.024146\n",
       "prix                  0.022137\n",
       "williams              0.019982\n",
       "fp2                   0.018004\n",
       "mercedes              0.015918\n",
       "mclaren               0.015880\n",
       "500                   0.015084\n",
       "xfinity               0.014919\n",
       "daytona 500           0.014891\n",
       "series                0.014416\n",
       "dover                 0.013919\n",
       "cup                   0.013724\n",
       "bahrain               0.013529\n",
       "bull                  0.012649\n",
       "red bull              0.012504\n",
       "throwback             0.011085\n",
       "scheme                0.010510\n",
       "race                  0.009711\n",
       "darlington            0.009101\n",
       "phoenix               0.008999\n",
       "toro rosso            0.008822\n",
       "today                 0.008658\n",
       "baku                  0.008586\n",
       "arca                  0.007682\n",
       "onboard               0.007104\n",
       "sauber                0.006713\n",
       "international         0.006535\n",
       "speedway              0.006498\n",
       "rosso                 0.005980\n",
       "monaco                0.005790\n",
       "thread                0.005599\n",
       "martinsville          0.005500\n",
       "test                  0.005305\n",
       "win                   0.005249\n",
       "iracing               0.005244\n",
       "lap                   0.005035\n",
       "track                 0.005002\n",
       "pic                   0.004993\n",
       "renault               0.004891\n",
       "toro                  0.004856\n",
       "bristol               0.004840\n",
       "motorsports           0.004725\n",
       "ot                    0.004555\n",
       "days                  0.004417\n",
       "paint                 0.004392\n",
       "malaysia              0.004370\n",
       "kubica                0.004007\n",
       "year                  0.003961\n",
       "finish                0.003946\n",
       "car                   0.003813\n",
       "raceway               0.003735\n",
       "mexican               0.003695\n",
       "pole                  0.003506\n",
       "10                    0.003487\n",
       "engine                0.003247\n",
       "design                0.003238\n",
       "watch                 0.003237\n",
       "road                  0.003146\n",
       "2021                  0.003079\n",
       "make                  0.003034\n",
       "sponsor               0.003033\n",
       "australian            0.002990\n",
       "did                   0.002976\n",
       "amp                   0.002891\n",
       "blue                  0.002845\n",
       "2019                  0.002715\n",
       "pre                   0.002651\n",
       "better                0.002609\n",
       "testing               0.002600\n",
       "paint scheme          0.002583\n",
       "fox                   0.002536\n",
       "live                  0.002511\n",
       "malaysian             0.002446\n",
       "2015                  0.002407\n",
       "does                  0.002324\n",
       "tbt                   0.002246\n",
       "time                  0.002202\n",
       "wreck                 0.002167\n",
       "think                 0.002147\n",
       "pirelli               0.002140\n",
       "tracks                0.002134\n",
       "weekend               0.002130\n",
       "crash                 0.002099\n",
       "mexico                0.002077\n",
       "wednesday             0.002073\n",
       "general discussion    0.002036\n",
       "tunnel                0.001990\n",
       "2021 car              0.001975\n",
       "instagram             0.001974\n",
       "came                  0.001968\n",
       "happy                 0.001949\n",
       "fia                   0.001931\n",
       "world                 0.001866\n",
       "champion              0.001848\n",
       "old                   0.001822"
      ]
     },
     "execution_count": 144,
     "metadata": {},
     "output_type": "execute_result"
    }
   ],
   "source": [
    "# looking at 100 most important features that determine subreddit\n",
    "pd.set_option('display.max_rows', 100)\n",
    "feat_imp_df.sort_values(by = 'importance', ascending = False).head(100)"
   ]
  },
  {
   "cell_type": "code",
   "execution_count": 165,
   "metadata": {},
   "outputs": [
    {
     "data": {
      "text/plain": [
       "<BarContainer object of 15 artists>"
      ]
     },
     "execution_count": 165,
     "metadata": {},
     "output_type": "execute_result"
    },
    {
     "data": {
      "image/png": "[encoded data removed]",
      "text/plain": [
       "<Figure size 864x720 with 1 Axes>"
      ]
     },
     "metadata": {
      "needs_background": "light"
     },
     "output_type": "display_data"
    }
   ],
   "source": [
    "# finding the top 15 most important words\n",
    "top_15=feat_imp_df.sort_values(by = 'importance', ascending = False).head(15)\n",
    "\n",
    "# plotting the 15 most important words that determine subreddit\n",
    "plt.figure(figsize=(12,10))\n",
    "plt.title(\"Top 15 Feature Importance\")\n",
    "plt.xlabel('Word Feature Importance')\n",
    "plt.ylabel('Word')\n",
    "plt.barh(y = top_15.index, width = top_15['importance'],color=\"r\", align=\"center\")"
   ]
  },
  {
   "cell_type": "markdown",
   "metadata": {},
   "source": [
    "Interpretation: In marketing towards Nascar viewers one of the key identifiable terms for Nascar over formula 1 is Daytona. This references the Daytona 500 in Florida. Given that Nascar viewers identify more strongly with the Daytona 500 over any other race it may be in formula 1’s best interest to begin marketing themselves at the Daytona 500 or even begin a new race, in Florida. There are current plans to begin a new Grand Prix in Florida in 2022, so this analysis confirms that this is likely a great strategy and could convert many Nascar fans to Formula 1."
   ]
  },
  {
   "cell_type": "code",
   "execution_count": 146,
   "metadata": {},
   "outputs": [
    {
     "data": {
      "text/html": [
       "<div>\n",
       "<style scoped>\n",
       "    .dataframe tbody tr th:only-of-type {\n",
       "        vertical-align: middle;\n",
       "    }\n",
       "\n",
       "    .dataframe tbody tr th {\n",
       "        vertical-align: top;\n",
       "    }\n",
       "\n",
       "    .dataframe thead th {\n",
       "        text-align: right;\n",
       "    }\n",
       "</style>\n",
       "<table border=\"1\" class=\"dataframe\">\n",
       "  <thead>\n",
       "    <tr style=\"text-align: right;\">\n",
       "      <th></th>\n",
       "      <th>importance</th>\n",
       "    </tr>\n",
       "  </thead>\n",
       "  <tbody>\n",
       "    <tr>\n",
       "      <th>chevrolet</th>\n",
       "      <td>0.000000</td>\n",
       "    </tr>\n",
       "    <tr>\n",
       "      <th>ford</th>\n",
       "      <td>0.000674</td>\n",
       "    </tr>\n",
       "    <tr>\n",
       "      <th>toyota</th>\n",
       "      <td>0.000289</td>\n",
       "    </tr>\n",
       "  </tbody>\n",
       "</table>\n",
       "</div>"
      ],
      "text/plain": [
       "           importance\n",
       "chevrolet    0.000000\n",
       "ford         0.000674\n",
       "toyota       0.000289"
      ]
     },
     "execution_count": 146,
     "metadata": {},
     "output_type": "execute_result"
    }
   ],
   "source": [
    "# creating a dataframe of current Nascar manufactures\n",
    "nascar_manuf = ['chevrolet','ford','toyota']\n",
    "nascar_manu_imp = feat_imp_df.loc[nascar_manuf]\n",
    "nascar_manu_imp"
   ]
  },
  {
   "cell_type": "code",
   "execution_count": 166,
   "metadata": {},
   "outputs": [
    {
     "data": {
      "text/plain": [
       "<BarContainer object of 3 artists>"
      ]
     },
     "execution_count": 166,
     "metadata": {},
     "output_type": "execute_result"
    },
    {
     "data": {
      "image/png": "[encoded data removed]",
      "text/plain": [
       "<Figure size 864x720 with 1 Axes>"
      ]
     },
     "metadata": {
      "needs_background": "light"
     },
     "output_type": "display_data"
    }
   ],
   "source": [
    "# plotting feature importance of current Nascar manufacturer\n",
    "plt.figure(figsize=(12,10))\n",
    "plt.title(\"Nascar Manufacturer Feature Importance\")\n",
    "plt.xlabel('Manufacturer Feature Importance')\n",
    "plt.ylabel('Nascar Manufacturer')\n",
    "plt.barh(y = nascar_manu_imp.index, width = nascar_manu_imp['importance'],color=\"r\", align=\"center\")"
   ]
  },
  {
   "cell_type": "markdown",
   "metadata": {},
   "source": [
    "Interpretation: Of the three current Nascar manufactures, viewers identify with Ford the most. In attracting Nascar viewership,  Formula 1 may want to incentivize Ford coming to formula 1. In bringing ford to formula 1 perhaps loyal Nascar fans would follow suite. Ford also has the benefit of previously working with many Formula 1 teams building engines in the early 2000s. In converting Nascar fans to formula 1 we should focus on creating a new ford team over creating a new Chevrolet or Toyota team. "
   ]
  },
  {
   "cell_type": "code",
   "execution_count": 150,
   "metadata": {},
   "outputs": [
    {
     "data": {
      "text/html": [
       "<div>\n",
       "<style scoped>\n",
       "    .dataframe tbody tr th:only-of-type {\n",
       "        vertical-align: middle;\n",
       "    }\n",
       "\n",
       "    .dataframe tbody tr th {\n",
       "        vertical-align: top;\n",
       "    }\n",
       "\n",
       "    .dataframe thead th {\n",
       "        text-align: right;\n",
       "    }\n",
       "</style>\n",
       "<table border=\"1\" class=\"dataframe\">\n",
       "  <thead>\n",
       "    <tr style=\"text-align: right;\">\n",
       "      <th></th>\n",
       "      <th>importance</th>\n",
       "    </tr>\n",
       "  </thead>\n",
       "  <tbody>\n",
       "    <tr>\n",
       "      <th>xfinity</th>\n",
       "      <td>0.014919</td>\n",
       "    </tr>\n",
       "    <tr>\n",
       "      <th>coke</th>\n",
       "      <td>0.000000</td>\n",
       "    </tr>\n",
       "    <tr>\n",
       "      <th>fox</th>\n",
       "      <td>0.002536</td>\n",
       "    </tr>\n",
       "    <tr>\n",
       "      <th>sprint</th>\n",
       "      <td>0.000559</td>\n",
       "    </tr>\n",
       "    <tr>\n",
       "      <th>monster</th>\n",
       "      <td>0.000619</td>\n",
       "    </tr>\n",
       "  </tbody>\n",
       "</table>\n",
       "</div>"
      ],
      "text/plain": [
       "         importance\n",
       "xfinity    0.014919\n",
       "coke       0.000000\n",
       "fox        0.002536\n",
       "sprint     0.000559\n",
       "monster    0.000619"
      ]
     },
     "execution_count": 150,
     "metadata": {},
     "output_type": "execute_result"
    }
   ],
   "source": [
    "# # creating a dataframe of current Nascar sponsors\n",
    "other_insights = ['xfinity', 'coke','fox','sprint','monster']\n",
    "nascar_other_imp = feat_imp_df.loc[other_insights]\n",
    "nascar_other_imp"
   ]
  },
  {
   "cell_type": "code",
   "execution_count": 167,
   "metadata": {},
   "outputs": [
    {
     "data": {
      "text/plain": [
       "<BarContainer object of 5 artists>"
      ]
     },
     "execution_count": 167,
     "metadata": {},
     "output_type": "execute_result"
    },
    {
     "data": {
      "image/png": "[encoded data removed]",
      "text/plain": [
       "<Figure size 864x720 with 1 Axes>"
      ]
     },
     "metadata": {
      "needs_background": "light"
     },
     "output_type": "display_data"
    }
   ],
   "source": [
    "plt.figure(figsize=(12,10))\n",
    "plt.title(\"Other Marketing Feature Importance\")\n",
    "plt.xlabel('Sponsor Feature Importance')\n",
    "plt.ylabel('Nascar Sponsor')\n",
    "plt.barh(y = nascar_other_imp.index, width = nascar_other_imp['importance'],color=\"r\", align=\"center\")"
   ]
  },
  {
   "cell_type": "markdown",
   "metadata": {},
   "source": [
    "Interpretation: Nascar also tends to attract specific advertisements that connect with fans. Fans seem to especially notice the brands: monster, sprint, fox, coke and xfinity. Given these brands connections to Nascar it may be worthwhile continuing with further research to see how these brands market themselves to Nascar viewers. In understanding their brand strategy perhaps Formula 1 can adapt some of their methods and attract Nascar fans to formula 1 by similar methods. "
   ]
  }
 ],
 "metadata": {
  "kernelspec": {
   "display_name": "Python 3",
   "language": "python",
   "name": "python3"
  },
  "language_info": {
   "codemirror_mode": {
    "name": "ipython",
    "version": 3
   },
   "file_extension": ".py",
   "mimetype": "text/x-python",
   "name": "python",
   "nbconvert_exporter": "python",
   "pygments_lexer": "ipython3",
   "version": "3.8.3"
  }
 },
 "nbformat": 4,
 "nbformat_minor": 4
}
